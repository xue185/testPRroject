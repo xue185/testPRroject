{
 "metadata": {
  "language_info": {
   "codemirror_mode": {
    "name": "ipython",
    "version": 3
   },
   "file_extension": ".py",
   "mimetype": "text/x-python",
   "name": "python",
   "nbconvert_exporter": "python",
   "pygments_lexer": "ipython3",
   "version": "3.7.1-final"
  },
  "orig_nbformat": 2,
  "kernelspec": {
   "name": "Python 3.7.1 64-bit ('pytorch_gpu': conda)",
   "display_name": "Python 3.7.1 64-bit ('pytorch_gpu': conda)",
   "metadata": {
    "interpreter": {
     "hash": "8c5f60cf41d6c1cbdb9c2592fbc252727791d25299f577f96d72566ac0da04ca"
    }
   }
  }
 },
 "nbformat": 4,
 "nbformat_minor": 2,
 "cells": [
  {
   "cell_type": "code",
   "execution_count": 1,
   "metadata": {},
   "outputs": [],
   "source": [
    "import gym  # 导入 Gym 的 Python 接口环境包\n",
    "env = gym.make('CartPole-v0')  # 构建实验环境\n",
    "env.reset()  # 重置一个 episode\n",
    "for _ in range(1000):\n",
    "    env.render()  # 显示图形界面\n",
    "    action = env.action_space.sample() # 从动作空间中随机选取一个动作\n",
    "    env.step(action) # 用于提交动作，括号内是具体的动作\n",
    "env.close() # 关闭环境"
   ]
  },
  {
   "cell_type": "code",
   "execution_count": null,
   "metadata": {},
   "outputs": [],
   "source": [
    "import gym \n",
    "env = gym.make('CartPole-v0')  \n",
    "env.reset()  \n",
    "for _ in range(1000):\n",
    "    env.render()  \n",
    "    action = env.action_space.sample() \n",
    "    observation, reward, done, info = env.step(action)\n",
    "    print(observation)\n",
    "env.close()"
   ]
  },
  {
   "cell_type": "code",
   "execution_count": null,
   "metadata": {},
   "outputs": [],
   "source": [
    "from gym import envs\n",
    "env_specs = envs.registry.all()\n",
    "envs_ids = [env_spec.id for env_spec in env_specs]\n",
    "print(envs_ids)"
   ]
  }
 ]
}